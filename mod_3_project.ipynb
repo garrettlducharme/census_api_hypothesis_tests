{
 "cells": [
  {
   "cell_type": "code",
   "execution_count": 1,
   "metadata": {},
   "outputs": [],
   "source": [
    "import requests\n",
    "import json\n",
    "import pandas as pd\n",
    "import matplotlib.pyplot as plt\n",
    "import seaborn as sns\n",
    "%matplotlib inline"
   ]
  },
  {
   "cell_type": "code",
   "execution_count": 2,
   "metadata": {},
   "outputs": [],
   "source": [
    "with open('C:/Users/ducha/.api_keys/census_api.txt') as f:\n",
    "    api_key = json.load(f)['api_key']"
   ]
  },
  {
   "cell_type": "code",
   "execution_count": null,
   "metadata": {},
   "outputs": [],
   "source": [
    "def api_call(variables, api_key):\n",
    "    pass"
   ]
  },
  {
   "cell_type": "code",
   "execution_count": 47,
   "metadata": {},
   "outputs": [],
   "source": [
    "url_head = 'https://api.census.gov/data/2018/acs/acs1/profile?get=NAME'\n",
    "variables = ['DP02_0058E', 'DP02_0060E', 'DP02_0060PE', 'DP02_0060M']\n",
    "\n",
    "\n",
    "\n",
    "response = requests.get(f\"{url_head},{','.join(variables)}&for=state:*&key={api_key}\")"
   ]
  },
  {
   "cell_type": "code",
   "execution_count": 52,
   "metadata": {},
   "outputs": [
    {
     "data": {
      "text/html": [
       "<div>\n",
       "<style scoped>\n",
       "    .dataframe tbody tr th:only-of-type {\n",
       "        vertical-align: middle;\n",
       "    }\n",
       "\n",
       "    .dataframe tbody tr th {\n",
       "        vertical-align: top;\n",
       "    }\n",
       "\n",
       "    .dataframe thead th {\n",
       "        text-align: right;\n",
       "    }\n",
       "</style>\n",
       "<table border=\"1\" class=\"dataframe\">\n",
       "  <thead>\n",
       "    <tr style=\"text-align: right;\">\n",
       "      <th></th>\n",
       "      <th>NAME</th>\n",
       "      <th>DP02_0058E</th>\n",
       "      <th>DP02_0060E</th>\n",
       "      <th>DP02_0060PE</th>\n",
       "      <th>DP02_0060M</th>\n",
       "      <th>state</th>\n",
       "    </tr>\n",
       "  </thead>\n",
       "  <tbody>\n",
       "    <tr>\n",
       "      <th>0</th>\n",
       "      <td>Illinois</td>\n",
       "      <td>8706376</td>\n",
       "      <td>510902</td>\n",
       "      <td>5.9</td>\n",
       "      <td>12877</td>\n",
       "      <td>17</td>\n",
       "    </tr>\n",
       "    <tr>\n",
       "      <th>1</th>\n",
       "      <td>Iowa</td>\n",
       "      <td>2104792</td>\n",
       "      <td>97697</td>\n",
       "      <td>4.6</td>\n",
       "      <td>4946</td>\n",
       "      <td>19</td>\n",
       "    </tr>\n",
       "    <tr>\n",
       "      <th>2</th>\n",
       "      <td>Missouri</td>\n",
       "      <td>4182787</td>\n",
       "      <td>278462</td>\n",
       "      <td>6.7</td>\n",
       "      <td>9717</td>\n",
       "      <td>29</td>\n",
       "    </tr>\n",
       "    <tr>\n",
       "      <th>3</th>\n",
       "      <td>Nevada</td>\n",
       "      <td>2096574</td>\n",
       "      <td>164010</td>\n",
       "      <td>7.8</td>\n",
       "      <td>6392</td>\n",
       "      <td>32</td>\n",
       "    </tr>\n",
       "    <tr>\n",
       "      <th>4</th>\n",
       "      <td>Pennsylvania</td>\n",
       "      <td>8994627</td>\n",
       "      <td>532792</td>\n",
       "      <td>5.9</td>\n",
       "      <td>11503</td>\n",
       "      <td>42</td>\n",
       "    </tr>\n",
       "  </tbody>\n",
       "</table>\n",
       "</div>"
      ],
      "text/plain": [
       "           NAME DP02_0058E DP02_0060E DP02_0060PE DP02_0060M state\n",
       "0      Illinois    8706376     510902         5.9      12877    17\n",
       "1          Iowa    2104792      97697         4.6       4946    19\n",
       "2      Missouri    4182787     278462         6.7       9717    29\n",
       "3        Nevada    2096574     164010         7.8       6392    32\n",
       "4  Pennsylvania    8994627     532792         5.9      11503    42"
      ]
     },
     "execution_count": 52,
     "metadata": {},
     "output_type": "execute_result"
    }
   ],
   "source": [
    "df = pd.DataFrame(response.json()[1:])\n",
    "df.columns = response.json()[0]\n",
    "df.head()"
   ]
  },
  {
   "cell_type": "code",
   "execution_count": 56,
   "metadata": {},
   "outputs": [
    {
     "data": {
      "text/plain": [
       "Georgia                 1\n",
       "Tennessee               1\n",
       "Iowa                    1\n",
       "Kansas                  1\n",
       "Virginia                1\n",
       "Illinois                1\n",
       "Mississippi             1\n",
       "Arizona                 1\n",
       "District of Columbia    1\n",
       "Missouri                1\n",
       "Massachusetts           1\n",
       "Rhode Island            1\n",
       "Indiana                 1\n",
       "Oregon                  1\n",
       "Hawaii                  1\n",
       "North Dakota            1\n",
       "Vermont                 1\n",
       "Kentucky                1\n",
       "New York                1\n",
       "Maryland                1\n",
       "Colorado                1\n",
       "Montana                 1\n",
       "Nebraska                1\n",
       "Maine                   1\n",
       "Wyoming                 1\n",
       "Wisconsin               1\n",
       "Florida                 1\n",
       "Alaska                  1\n",
       "Puerto Rico             1\n",
       "New Jersey              1\n",
       "Connecticut             1\n",
       "California              1\n",
       "Arkansas                1\n",
       "Louisiana               1\n",
       "Utah                    1\n",
       "South Dakota            1\n",
       "New Mexico              1\n",
       "Nevada                  1\n",
       "Ohio                    1\n",
       "Pennsylvania            1\n",
       "North Carolina          1\n",
       "New Hampshire           1\n",
       "Michigan                1\n",
       "South Carolina          1\n",
       "Delaware                1\n",
       "Alabama                 1\n",
       "Oklahoma                1\n",
       "Washington              1\n",
       "Texas                   1\n",
       "West Virginia           1\n",
       "Idaho                   1\n",
       "Minnesota               1\n",
       "Name: NAME, dtype: int64"
      ]
     },
     "execution_count": 56,
     "metadata": {},
     "output_type": "execute_result"
    }
   ],
   "source": [
    "df.NAME.value_counts()"
   ]
  },
  {
   "cell_type": "code",
   "execution_count": 29,
   "metadata": {},
   "outputs": [
    {
     "data": {
      "text/plain": [
       "'https://api.census.gov/data/2018/acs/acs1/profile?get=NAME,DP02_0058E,DP02_0058PE&for=congressional%20district:*&in=state:*&key=7feb4b9b31d10f7cf686de5ea2efd71b4fd6c1e2'"
      ]
     },
     "execution_count": 29,
     "metadata": {},
     "output_type": "execute_result"
    }
   ],
   "source": [
    "f\"{url_head},{','.join(variables)}&for=congressional%20district:*&in=state:*&key={api_key}\""
   ]
  },
  {
   "cell_type": "code",
   "execution_count": null,
   "metadata": {},
   "outputs": [],
   "source": []
  }
 ],
 "metadata": {
  "kernelspec": {
   "display_name": "Python 3",
   "language": "python",
   "name": "python3"
  },
  "language_info": {
   "codemirror_mode": {
    "name": "ipython",
    "version": 3
   },
   "file_extension": ".py",
   "mimetype": "text/x-python",
   "name": "python",
   "nbconvert_exporter": "python",
   "pygments_lexer": "ipython3",
   "version": "3.7.3"
  }
 },
 "nbformat": 4,
 "nbformat_minor": 4
}
